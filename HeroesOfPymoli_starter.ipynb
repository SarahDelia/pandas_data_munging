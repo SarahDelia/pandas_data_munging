{
 "cells": [
  {
   "cell_type": "markdown",
   "metadata": {},
   "source": [
    "### Heroes Of Pymoli Data Analysis\n",
    "* Of the 1163 active players, the vast majority are male (84%). There also exists, a smaller, but notable proportion of female players (14%).\n",
    "\n",
    "* Our peak age demographic falls between 20-24 (44.8%) with secondary groups falling between 15-19 (18.60%) and 25-29 (13.4%).  \n",
    "-----"
   ]
  },
  {
   "cell_type": "markdown",
   "metadata": {},
   "source": [
    "### Note\n",
    "* Instructions have been included for each segment. You do not have to follow them exactly, but they are included to help you think through the steps."
   ]
  },
  {
   "cell_type": "code",
   "execution_count": 1,
   "metadata": {},
   "outputs": [],
   "source": [
    "# Dependencies and Setup\n",
    "import pandas as pd\n",
    "import numpy as np\n",
    "\n",
    "# File to Load (Remember to Change These)\n",
    "file = \"Resources/purchase_data.csv\"\n",
    "\n",
    "# Read Purchasing File and store into Pandas data frame\n",
    "purchase_data = pd.read_csv(file)"
   ]
  },
  {
   "cell_type": "markdown",
   "metadata": {},
   "source": [
    "## Player Count"
   ]
  },
  {
   "cell_type": "code",
   "execution_count": 2,
   "metadata": {},
   "outputs": [
    {
     "data": {
      "text/html": [
       "<div>\n",
       "<style scoped>\n",
       "    .dataframe tbody tr th:only-of-type {\n",
       "        vertical-align: middle;\n",
       "    }\n",
       "\n",
       "    .dataframe tbody tr th {\n",
       "        vertical-align: top;\n",
       "    }\n",
       "\n",
       "    .dataframe thead th {\n",
       "        text-align: right;\n",
       "    }\n",
       "</style>\n",
       "<table border=\"1\" class=\"dataframe\">\n",
       "  <thead>\n",
       "    <tr style=\"text-align: right;\">\n",
       "      <th></th>\n",
       "      <th>Purchase ID</th>\n",
       "      <th>SN</th>\n",
       "      <th>Age</th>\n",
       "      <th>Gender</th>\n",
       "      <th>Item ID</th>\n",
       "      <th>Item Name</th>\n",
       "      <th>Price</th>\n",
       "    </tr>\n",
       "  </thead>\n",
       "  <tbody>\n",
       "    <tr>\n",
       "      <th>0</th>\n",
       "      <td>0</td>\n",
       "      <td>Lisim78</td>\n",
       "      <td>20</td>\n",
       "      <td>Male</td>\n",
       "      <td>108</td>\n",
       "      <td>Extraction, Quickblade Of Trembling Hands</td>\n",
       "      <td>3.53</td>\n",
       "    </tr>\n",
       "    <tr>\n",
       "      <th>1</th>\n",
       "      <td>1</td>\n",
       "      <td>Lisovynya38</td>\n",
       "      <td>40</td>\n",
       "      <td>Male</td>\n",
       "      <td>143</td>\n",
       "      <td>Frenzied Scimitar</td>\n",
       "      <td>1.56</td>\n",
       "    </tr>\n",
       "    <tr>\n",
       "      <th>2</th>\n",
       "      <td>2</td>\n",
       "      <td>Ithergue48</td>\n",
       "      <td>24</td>\n",
       "      <td>Male</td>\n",
       "      <td>92</td>\n",
       "      <td>Final Critic</td>\n",
       "      <td>4.88</td>\n",
       "    </tr>\n",
       "    <tr>\n",
       "      <th>3</th>\n",
       "      <td>3</td>\n",
       "      <td>Chamassasya86</td>\n",
       "      <td>24</td>\n",
       "      <td>Male</td>\n",
       "      <td>100</td>\n",
       "      <td>Blindscythe</td>\n",
       "      <td>3.27</td>\n",
       "    </tr>\n",
       "    <tr>\n",
       "      <th>4</th>\n",
       "      <td>4</td>\n",
       "      <td>Iskosia90</td>\n",
       "      <td>23</td>\n",
       "      <td>Male</td>\n",
       "      <td>131</td>\n",
       "      <td>Fury</td>\n",
       "      <td>1.44</td>\n",
       "    </tr>\n",
       "  </tbody>\n",
       "</table>\n",
       "</div>"
      ],
      "text/plain": [
       "   Purchase ID             SN  Age Gender  Item ID  \\\n",
       "0            0        Lisim78   20   Male      108   \n",
       "1            1    Lisovynya38   40   Male      143   \n",
       "2            2     Ithergue48   24   Male       92   \n",
       "3            3  Chamassasya86   24   Male      100   \n",
       "4            4      Iskosia90   23   Male      131   \n",
       "\n",
       "                                   Item Name  Price  \n",
       "0  Extraction, Quickblade Of Trembling Hands   3.53  \n",
       "1                          Frenzied Scimitar   1.56  \n",
       "2                               Final Critic   4.88  \n",
       "3                                Blindscythe   3.27  \n",
       "4                                       Fury   1.44  "
      ]
     },
     "execution_count": 2,
     "metadata": {},
     "output_type": "execute_result"
    }
   ],
   "source": [
    "purchase_data.head()"
   ]
  },
  {
   "cell_type": "markdown",
   "metadata": {},
   "source": [
    "* Display the total number of players\n"
   ]
  },
  {
   "cell_type": "code",
   "execution_count": 3,
   "metadata": {},
   "outputs": [
    {
     "name": "stdout",
     "output_type": "stream",
     "text": [
      "Total Number of Players: 576\n"
     ]
    }
   ],
   "source": [
    "count = len(purchase_data[\"SN\"].unique())\n",
    "print(f\"Total Number of Players: {count}\")"
   ]
  },
  {
   "cell_type": "markdown",
   "metadata": {},
   "source": [
    "## Purchasing Analysis (Total)"
   ]
  },
  {
   "cell_type": "markdown",
   "metadata": {},
   "source": [
    "* Run basic calculations to obtain number of unique items, average price, etc.\n",
    "\n",
    "\n",
    "* Create a summary data frame to hold the results\n",
    "\n",
    "\n",
    "* Optional: give the displayed data cleaner formatting\n",
    "\n",
    "\n",
    "* Display the summary data frame\n"
   ]
  },
  {
   "cell_type": "code",
   "execution_count": 4,
   "metadata": {
    "scrolled": true
   },
   "outputs": [],
   "source": [
    "unique_items = len(purchase_data[\"Item ID\"].unique())\n",
    "avg_price = round(purchase_data[\"Price\"].mean(), 2)\n",
    "purchase_total = len(purchase_data[\"Purchase ID\"])\n",
    "revenue = (purchase_data[\"Price\"].sum())"
   ]
  },
  {
   "cell_type": "code",
   "execution_count": 5,
   "metadata": {},
   "outputs": [
    {
     "data": {
      "text/html": [
       "<div>\n",
       "<style scoped>\n",
       "    .dataframe tbody tr th:only-of-type {\n",
       "        vertical-align: middle;\n",
       "    }\n",
       "\n",
       "    .dataframe tbody tr th {\n",
       "        vertical-align: top;\n",
       "    }\n",
       "\n",
       "    .dataframe thead th {\n",
       "        text-align: right;\n",
       "    }\n",
       "</style>\n",
       "<table border=\"1\" class=\"dataframe\">\n",
       "  <thead>\n",
       "    <tr style=\"text-align: right;\">\n",
       "      <th></th>\n",
       "      <th>Number of Unique Items</th>\n",
       "      <th>Average Price</th>\n",
       "      <th>Number of Purchases</th>\n",
       "      <th>Total Revenue</th>\n",
       "    </tr>\n",
       "  </thead>\n",
       "  <tbody>\n",
       "    <tr>\n",
       "      <th>0</th>\n",
       "      <td>183</td>\n",
       "      <td>3.05</td>\n",
       "      <td>780</td>\n",
       "      <td>2379.77</td>\n",
       "    </tr>\n",
       "  </tbody>\n",
       "</table>\n",
       "</div>"
      ],
      "text/plain": [
       "   Number of Unique Items  Average Price  Number of Purchases  Total Revenue\n",
       "0                     183           3.05                  780        2379.77"
      ]
     },
     "execution_count": 5,
     "metadata": {},
     "output_type": "execute_result"
    }
   ],
   "source": [
    "purchase_analysis = pd.DataFrame({ \"Number of Unique Items\" : [unique_items],\n",
    "                                     \"Average Price\" : [avg_price], \n",
    "                                     \"Number of Purchases\" : [purchase_total],\n",
    "                                     \"Total Revenue\" : [revenue]})\n",
    "purchase_analysis"
   ]
  },
  {
   "cell_type": "markdown",
   "metadata": {},
   "source": [
    "## Gender Demographics"
   ]
  },
  {
   "cell_type": "markdown",
   "metadata": {},
   "source": [
    "* Percentage and Count of Male Players\n",
    "\n",
    "\n",
    "* Percentage and Count of Female Players\n",
    "\n",
    "\n",
    "* Percentage and Count of Other / Non-Disclosed\n",
    "\n",
    "\n"
   ]
  },
  {
   "cell_type": "code",
   "execution_count": 6,
   "metadata": {},
   "outputs": [
    {
     "data": {
      "text/html": [
       "<div>\n",
       "<style scoped>\n",
       "    .dataframe tbody tr th:only-of-type {\n",
       "        vertical-align: middle;\n",
       "    }\n",
       "\n",
       "    .dataframe tbody tr th {\n",
       "        vertical-align: top;\n",
       "    }\n",
       "\n",
       "    .dataframe thead th {\n",
       "        text-align: right;\n",
       "    }\n",
       "</style>\n",
       "<table border=\"1\" class=\"dataframe\">\n",
       "  <thead>\n",
       "    <tr style=\"text-align: right;\">\n",
       "      <th></th>\n",
       "      <th></th>\n",
       "      <th>Total Count</th>\n",
       "      <th>Percentage of Players</th>\n",
       "    </tr>\n",
       "  </thead>\n",
       "  <tbody>\n",
       "    <tr>\n",
       "      <th>0</th>\n",
       "      <td>Male</td>\n",
       "      <td>484</td>\n",
       "      <td>84.03</td>\n",
       "    </tr>\n",
       "    <tr>\n",
       "      <th>1</th>\n",
       "      <td>Female</td>\n",
       "      <td>81</td>\n",
       "      <td>14.06</td>\n",
       "    </tr>\n",
       "    <tr>\n",
       "      <th>2</th>\n",
       "      <td>Other / Non-Disclosed</td>\n",
       "      <td>11</td>\n",
       "      <td>1.91</td>\n",
       "    </tr>\n",
       "  </tbody>\n",
       "</table>\n",
       "</div>"
      ],
      "text/plain": [
       "                          Total Count  Percentage of Players\n",
       "0                   Male          484                  84.03\n",
       "1                 Female           81                  14.06\n",
       "2  Other / Non-Disclosed           11                   1.91"
      ]
     },
     "execution_count": 6,
     "metadata": {},
     "output_type": "execute_result"
    }
   ],
   "source": [
    "new_df = purchase_data.drop_duplicates(subset=\"SN\",keep=\"first\")\n",
    "\n",
    "gen_df = new_df.groupby('Gender')\n",
    "\n",
    "t_count = len(new_df[\"Gender\"])\n",
    "\n",
    "male = gen_df.get_group('Male')\n",
    "\n",
    "male_count = len(male)\n",
    "\n",
    "female = gen_df.get_group('Female')\n",
    "\n",
    "female_count = len(female)\n",
    "\n",
    "other = gen_df.get_group('Other / Non-Disclosed')\n",
    "\n",
    "other_count = len(other)\n",
    "\n",
    "\n",
    "male_percentage = round((male_count / t_count) * 100, 2)\n",
    "\n",
    "female_percentage = round((female_count / t_count) * 100, 2)\n",
    "\n",
    "other_percentage = round((other_count / t_count) * 100, 2)\n",
    "\n",
    "\n",
    "gender_table = pd.DataFrame({ '': ['Male', 'Female', 'Other / Non-Disclosed'],\n",
    "                            'Total Count' : [male_count, female_count, other_count],\n",
    "                            'Percentage of Players' : [male_percentage, female_percentage, other_percentage]})\n",
    "\n",
    "gender_table"
   ]
  },
  {
   "cell_type": "markdown",
   "metadata": {},
   "source": [
    "\n",
    "## Purchasing Analysis (Gender)"
   ]
  },
  {
   "cell_type": "markdown",
   "metadata": {},
   "source": [
    "* Run basic calculations to obtain purchase count, avg. purchase price, avg. purchase total per person etc. by gender\n",
    "\n",
    "\n",
    "\n",
    "\n",
    "* Create a summary data frame to hold the results\n",
    "\n",
    "\n",
    "* Optional: give the displayed data cleaner formatting\n",
    "\n",
    "\n",
    "* Display the summary data frame"
   ]
  },
  {
   "cell_type": "code",
   "execution_count": 7,
   "metadata": {},
   "outputs": [
    {
     "data": {
      "text/html": [
       "<div>\n",
       "<style scoped>\n",
       "    .dataframe tbody tr th:only-of-type {\n",
       "        vertical-align: middle;\n",
       "    }\n",
       "\n",
       "    .dataframe tbody tr th {\n",
       "        vertical-align: top;\n",
       "    }\n",
       "\n",
       "    .dataframe thead th {\n",
       "        text-align: right;\n",
       "    }\n",
       "</style>\n",
       "<table border=\"1\" class=\"dataframe\">\n",
       "  <thead>\n",
       "    <tr style=\"text-align: right;\">\n",
       "      <th></th>\n",
       "      <th></th>\n",
       "      <th>Purchase Count</th>\n",
       "      <th>Average Purchase Price</th>\n",
       "      <th>Total Purchase Value</th>\n",
       "      <th>Avg Total Purchase per Person</th>\n",
       "    </tr>\n",
       "  </thead>\n",
       "  <tbody>\n",
       "    <tr>\n",
       "      <th>0</th>\n",
       "      <td>Female</td>\n",
       "      <td>113</td>\n",
       "      <td>3.20</td>\n",
       "      <td>361.94</td>\n",
       "      <td>4.47</td>\n",
       "    </tr>\n",
       "    <tr>\n",
       "      <th>1</th>\n",
       "      <td>Male</td>\n",
       "      <td>652</td>\n",
       "      <td>3.02</td>\n",
       "      <td>1967.64</td>\n",
       "      <td>4.07</td>\n",
       "    </tr>\n",
       "    <tr>\n",
       "      <th>2</th>\n",
       "      <td>Other / Non-Disclosed</td>\n",
       "      <td>15</td>\n",
       "      <td>3.35</td>\n",
       "      <td>50.19</td>\n",
       "      <td>4.56</td>\n",
       "    </tr>\n",
       "  </tbody>\n",
       "</table>\n",
       "</div>"
      ],
      "text/plain": [
       "                          Purchase Count  Average Purchase Price  \\\n",
       "0                 Female             113                    3.20   \n",
       "1                   Male             652                    3.02   \n",
       "2  Other / Non-Disclosed              15                    3.35   \n",
       "\n",
       "   Total Purchase Value  Avg Total Purchase per Person  \n",
       "0                361.94                           4.47  \n",
       "1               1967.64                           4.07  \n",
       "2                 50.19                           4.56  "
      ]
     },
     "execution_count": 7,
     "metadata": {},
     "output_type": "execute_result"
    }
   ],
   "source": [
    "genders_df = purchase_data.groupby('Gender')\n",
    "\n",
    "female = genders_df.get_group('Female')\n",
    "\n",
    "female_c = len(female)\n",
    "\n",
    "male = genders_df.get_group('Male')\n",
    "\n",
    "male_c = len(male)\n",
    "\n",
    "other = genders_df.get_group('Other / Non-Disclosed')\n",
    "\n",
    "other_c = len(other)\n",
    "\n",
    "comparison = genders_df[\"Price\"].sum()\n",
    "\n",
    "female_v = comparison['Female']\n",
    "\n",
    "male_v = comparison['Male']\n",
    "\n",
    "other_v = comparison['Other / Non-Disclosed']\n",
    "\n",
    "average = round(genders_df[\"Price\"].mean(), 2)\n",
    "\n",
    "female_a = average['Female']\n",
    "\n",
    "male_a = average['Male']\n",
    "\n",
    "other_a = average['Other / Non-Disclosed']\n",
    "\n",
    "female_r = round((comparison['Female']/ female_count).sum(), 2)\n",
    "\n",
    "male_r = round((comparison['Male']/male_count).sum(), 2)\n",
    "\n",
    "other_r = round((comparison['Other / Non-Disclosed']/other_count).sum(), 2)\n",
    "\n",
    "\n",
    "genders_analysis = pd.DataFrame({ '': ['Female', 'Male', 'Other / Non-Disclosed'],\n",
    "                            'Purchase Count' : [female_c, male_c, other_c],\n",
    "                            'Average Purchase Price' : [female_a, male_a, other_a],\n",
    "                            'Total Purchase Value' : [female_v, male_v, other_v],\n",
    "                            'Avg Total Purchase per Person' : [female_r, male_r, other_r]})\n",
    "\n",
    "genders_analysis"
   ]
  },
  {
   "cell_type": "markdown",
   "metadata": {},
   "source": [
    "## Age Demographics"
   ]
  },
  {
   "cell_type": "markdown",
   "metadata": {},
   "source": [
    "* Establish bins for ages\n",
    "\n",
    "\n",
    "* Categorize the existing players using the age bins. Hint: use pd.cut()\n",
    "\n",
    "\n",
    "* Calculate the numbers and percentages by age group\n",
    "\n",
    "\n",
    "* Create a summary data frame to hold the results\n",
    "\n",
    "\n",
    "* Optional: round the percentage column to two decimal points\n",
    "\n",
    "\n",
    "* Display Age Demographics Table\n"
   ]
  },
  {
   "cell_type": "code",
   "execution_count": 8,
   "metadata": {},
   "outputs": [
    {
     "data": {
      "text/html": [
       "<style  type=\"text/css\" >\n",
       "</style><table id=\"T_8efa8e64_9adc_11e9_a007_2016b9880aa8\" ><thead>    <tr>        <th class=\"blank level0\" ></th>        <th class=\"col_heading level0 col0\" >Total Count</th>        <th class=\"col_heading level0 col1\" >Percentage of Players</th>    </tr></thead><tbody>\n",
       "                <tr>\n",
       "                        <th id=\"T_8efa8e64_9adc_11e9_a007_2016b9880aa8level0_row0\" class=\"row_heading level0 row0\" ><10</th>\n",
       "                        <td id=\"T_8efa8e64_9adc_11e9_a007_2016b9880aa8row0_col0\" class=\"data row0 col0\" >17</td>\n",
       "                        <td id=\"T_8efa8e64_9adc_11e9_a007_2016b9880aa8row0_col1\" class=\"data row0 col1\" >2.95</td>\n",
       "            </tr>\n",
       "            <tr>\n",
       "                        <th id=\"T_8efa8e64_9adc_11e9_a007_2016b9880aa8level0_row1\" class=\"row_heading level0 row1\" >10-14</th>\n",
       "                        <td id=\"T_8efa8e64_9adc_11e9_a007_2016b9880aa8row1_col0\" class=\"data row1 col0\" >22</td>\n",
       "                        <td id=\"T_8efa8e64_9adc_11e9_a007_2016b9880aa8row1_col1\" class=\"data row1 col1\" >3.82</td>\n",
       "            </tr>\n",
       "            <tr>\n",
       "                        <th id=\"T_8efa8e64_9adc_11e9_a007_2016b9880aa8level0_row2\" class=\"row_heading level0 row2\" >15-19</th>\n",
       "                        <td id=\"T_8efa8e64_9adc_11e9_a007_2016b9880aa8row2_col0\" class=\"data row2 col0\" >107</td>\n",
       "                        <td id=\"T_8efa8e64_9adc_11e9_a007_2016b9880aa8row2_col1\" class=\"data row2 col1\" >18.58</td>\n",
       "            </tr>\n",
       "            <tr>\n",
       "                        <th id=\"T_8efa8e64_9adc_11e9_a007_2016b9880aa8level0_row3\" class=\"row_heading level0 row3\" >20-24</th>\n",
       "                        <td id=\"T_8efa8e64_9adc_11e9_a007_2016b9880aa8row3_col0\" class=\"data row3 col0\" >258</td>\n",
       "                        <td id=\"T_8efa8e64_9adc_11e9_a007_2016b9880aa8row3_col1\" class=\"data row3 col1\" >44.79</td>\n",
       "            </tr>\n",
       "            <tr>\n",
       "                        <th id=\"T_8efa8e64_9adc_11e9_a007_2016b9880aa8level0_row4\" class=\"row_heading level0 row4\" >25-29</th>\n",
       "                        <td id=\"T_8efa8e64_9adc_11e9_a007_2016b9880aa8row4_col0\" class=\"data row4 col0\" >77</td>\n",
       "                        <td id=\"T_8efa8e64_9adc_11e9_a007_2016b9880aa8row4_col1\" class=\"data row4 col1\" >13.37</td>\n",
       "            </tr>\n",
       "            <tr>\n",
       "                        <th id=\"T_8efa8e64_9adc_11e9_a007_2016b9880aa8level0_row5\" class=\"row_heading level0 row5\" >30-34</th>\n",
       "                        <td id=\"T_8efa8e64_9adc_11e9_a007_2016b9880aa8row5_col0\" class=\"data row5 col0\" >52</td>\n",
       "                        <td id=\"T_8efa8e64_9adc_11e9_a007_2016b9880aa8row5_col1\" class=\"data row5 col1\" >9.03</td>\n",
       "            </tr>\n",
       "            <tr>\n",
       "                        <th id=\"T_8efa8e64_9adc_11e9_a007_2016b9880aa8level0_row6\" class=\"row_heading level0 row6\" >35-39</th>\n",
       "                        <td id=\"T_8efa8e64_9adc_11e9_a007_2016b9880aa8row6_col0\" class=\"data row6 col0\" >31</td>\n",
       "                        <td id=\"T_8efa8e64_9adc_11e9_a007_2016b9880aa8row6_col1\" class=\"data row6 col1\" >5.38</td>\n",
       "            </tr>\n",
       "            <tr>\n",
       "                        <th id=\"T_8efa8e64_9adc_11e9_a007_2016b9880aa8level0_row7\" class=\"row_heading level0 row7\" >40+</th>\n",
       "                        <td id=\"T_8efa8e64_9adc_11e9_a007_2016b9880aa8row7_col0\" class=\"data row7 col0\" >12</td>\n",
       "                        <td id=\"T_8efa8e64_9adc_11e9_a007_2016b9880aa8row7_col1\" class=\"data row7 col1\" >2.08</td>\n",
       "            </tr>\n",
       "    </tbody></table>"
      ],
      "text/plain": [
       "<pandas.io.formats.style.Styler at 0x1f0b503a550>"
      ]
     },
     "execution_count": 8,
     "metadata": {},
     "output_type": "execute_result"
    }
   ],
   "source": [
    "a_bin = [0, 9, 14, 19, 24, 29, 34, 39, 50]\n",
    "\n",
    "g_n = [\"<10\", \"10-14\", \"15-19\", \"20-24\", \"25-29\", \"30-34\", \"35-39\", \"40+\"]\n",
    "\n",
    "\n",
    "purchase_data[\"Age Groups\"] = pd.cut(purchase_data[\"Age\"],a_bin, labels=g_n)\n",
    "\n",
    "age_g = purchase_data.groupby(\"Age Groups\")\n",
    "\n",
    "total_c_a = age_g[\"SN\"].nunique()\n",
    "\n",
    "player_age = (total_c_a/t_count) * 100\n",
    "\n",
    "\n",
    "average_total = pd.DataFrame({\"Total Count\": total_c_a, \"Percentage of Players\": player_age})\n",
    "\n",
    "average_total.index.name = None\n",
    "\n",
    "average_total.style.format({\"Percentage of Players\":\"{:,.2f}\"})"
   ]
  },
  {
   "cell_type": "markdown",
   "metadata": {},
   "source": [
    "## Purchasing Analysis (Age)"
   ]
  },
  {
   "cell_type": "markdown",
   "metadata": {},
   "source": [
    "* Bin the purchase_data data frame by age\n",
    "\n",
    "\n",
    "* Run basic calculations to obtain purchase count, avg. purchase price, avg. purchase total per person etc. in the table below\n",
    "\n",
    "\n",
    "* Create a summary data frame to hold the results\n",
    "\n",
    "\n",
    "* Optional: give the displayed data cleaner formatting\n",
    "\n",
    "\n",
    "* Display the summary data frame"
   ]
  },
  {
   "cell_type": "code",
   "execution_count": 9,
   "metadata": {},
   "outputs": [
    {
     "data": {
      "text/html": [
       "<style  type=\"text/css\" >\n",
       "</style><table id=\"T_8efdce92_9adc_11e9_bbe1_2016b9880aa8\" ><thead>    <tr>        <th class=\"blank level0\" ></th>        <th class=\"col_heading level0 col0\" >Purchase Count</th>        <th class=\"col_heading level0 col1\" >Average Purchase Price</th>        <th class=\"col_heading level0 col2\" >Total Purchase Value</th>        <th class=\"col_heading level0 col3\" >Average Purchase Total per Person</th>    </tr></thead><tbody>\n",
       "                <tr>\n",
       "                        <th id=\"T_8efdce92_9adc_11e9_bbe1_2016b9880aa8level0_row0\" class=\"row_heading level0 row0\" ><10</th>\n",
       "                        <td id=\"T_8efdce92_9adc_11e9_bbe1_2016b9880aa8row0_col0\" class=\"data row0 col0\" >23</td>\n",
       "                        <td id=\"T_8efdce92_9adc_11e9_bbe1_2016b9880aa8row0_col1\" class=\"data row0 col1\" >$3.35</td>\n",
       "                        <td id=\"T_8efdce92_9adc_11e9_bbe1_2016b9880aa8row0_col2\" class=\"data row0 col2\" >$77.13</td>\n",
       "                        <td id=\"T_8efdce92_9adc_11e9_bbe1_2016b9880aa8row0_col3\" class=\"data row0 col3\" >$4.54</td>\n",
       "            </tr>\n",
       "            <tr>\n",
       "                        <th id=\"T_8efdce92_9adc_11e9_bbe1_2016b9880aa8level0_row1\" class=\"row_heading level0 row1\" >10-14</th>\n",
       "                        <td id=\"T_8efdce92_9adc_11e9_bbe1_2016b9880aa8row1_col0\" class=\"data row1 col0\" >28</td>\n",
       "                        <td id=\"T_8efdce92_9adc_11e9_bbe1_2016b9880aa8row1_col1\" class=\"data row1 col1\" >$2.96</td>\n",
       "                        <td id=\"T_8efdce92_9adc_11e9_bbe1_2016b9880aa8row1_col2\" class=\"data row1 col2\" >$82.78</td>\n",
       "                        <td id=\"T_8efdce92_9adc_11e9_bbe1_2016b9880aa8row1_col3\" class=\"data row1 col3\" >$3.76</td>\n",
       "            </tr>\n",
       "            <tr>\n",
       "                        <th id=\"T_8efdce92_9adc_11e9_bbe1_2016b9880aa8level0_row2\" class=\"row_heading level0 row2\" >15-19</th>\n",
       "                        <td id=\"T_8efdce92_9adc_11e9_bbe1_2016b9880aa8row2_col0\" class=\"data row2 col0\" >136</td>\n",
       "                        <td id=\"T_8efdce92_9adc_11e9_bbe1_2016b9880aa8row2_col1\" class=\"data row2 col1\" >$3.04</td>\n",
       "                        <td id=\"T_8efdce92_9adc_11e9_bbe1_2016b9880aa8row2_col2\" class=\"data row2 col2\" >$412.89</td>\n",
       "                        <td id=\"T_8efdce92_9adc_11e9_bbe1_2016b9880aa8row2_col3\" class=\"data row2 col3\" >$3.86</td>\n",
       "            </tr>\n",
       "            <tr>\n",
       "                        <th id=\"T_8efdce92_9adc_11e9_bbe1_2016b9880aa8level0_row3\" class=\"row_heading level0 row3\" >20-24</th>\n",
       "                        <td id=\"T_8efdce92_9adc_11e9_bbe1_2016b9880aa8row3_col0\" class=\"data row3 col0\" >365</td>\n",
       "                        <td id=\"T_8efdce92_9adc_11e9_bbe1_2016b9880aa8row3_col1\" class=\"data row3 col1\" >$3.05</td>\n",
       "                        <td id=\"T_8efdce92_9adc_11e9_bbe1_2016b9880aa8row3_col2\" class=\"data row3 col2\" >$1,114.06</td>\n",
       "                        <td id=\"T_8efdce92_9adc_11e9_bbe1_2016b9880aa8row3_col3\" class=\"data row3 col3\" >$4.32</td>\n",
       "            </tr>\n",
       "            <tr>\n",
       "                        <th id=\"T_8efdce92_9adc_11e9_bbe1_2016b9880aa8level0_row4\" class=\"row_heading level0 row4\" >25-29</th>\n",
       "                        <td id=\"T_8efdce92_9adc_11e9_bbe1_2016b9880aa8row4_col0\" class=\"data row4 col0\" >101</td>\n",
       "                        <td id=\"T_8efdce92_9adc_11e9_bbe1_2016b9880aa8row4_col1\" class=\"data row4 col1\" >$2.90</td>\n",
       "                        <td id=\"T_8efdce92_9adc_11e9_bbe1_2016b9880aa8row4_col2\" class=\"data row4 col2\" >$293.00</td>\n",
       "                        <td id=\"T_8efdce92_9adc_11e9_bbe1_2016b9880aa8row4_col3\" class=\"data row4 col3\" >$3.81</td>\n",
       "            </tr>\n",
       "            <tr>\n",
       "                        <th id=\"T_8efdce92_9adc_11e9_bbe1_2016b9880aa8level0_row5\" class=\"row_heading level0 row5\" >30-34</th>\n",
       "                        <td id=\"T_8efdce92_9adc_11e9_bbe1_2016b9880aa8row5_col0\" class=\"data row5 col0\" >73</td>\n",
       "                        <td id=\"T_8efdce92_9adc_11e9_bbe1_2016b9880aa8row5_col1\" class=\"data row5 col1\" >$2.93</td>\n",
       "                        <td id=\"T_8efdce92_9adc_11e9_bbe1_2016b9880aa8row5_col2\" class=\"data row5 col2\" >$214.00</td>\n",
       "                        <td id=\"T_8efdce92_9adc_11e9_bbe1_2016b9880aa8row5_col3\" class=\"data row5 col3\" >$4.12</td>\n",
       "            </tr>\n",
       "            <tr>\n",
       "                        <th id=\"T_8efdce92_9adc_11e9_bbe1_2016b9880aa8level0_row6\" class=\"row_heading level0 row6\" >35-39</th>\n",
       "                        <td id=\"T_8efdce92_9adc_11e9_bbe1_2016b9880aa8row6_col0\" class=\"data row6 col0\" >41</td>\n",
       "                        <td id=\"T_8efdce92_9adc_11e9_bbe1_2016b9880aa8row6_col1\" class=\"data row6 col1\" >$3.60</td>\n",
       "                        <td id=\"T_8efdce92_9adc_11e9_bbe1_2016b9880aa8row6_col2\" class=\"data row6 col2\" >$147.67</td>\n",
       "                        <td id=\"T_8efdce92_9adc_11e9_bbe1_2016b9880aa8row6_col3\" class=\"data row6 col3\" >$4.76</td>\n",
       "            </tr>\n",
       "            <tr>\n",
       "                        <th id=\"T_8efdce92_9adc_11e9_bbe1_2016b9880aa8level0_row7\" class=\"row_heading level0 row7\" >40+</th>\n",
       "                        <td id=\"T_8efdce92_9adc_11e9_bbe1_2016b9880aa8row7_col0\" class=\"data row7 col0\" >13</td>\n",
       "                        <td id=\"T_8efdce92_9adc_11e9_bbe1_2016b9880aa8row7_col1\" class=\"data row7 col1\" >$2.94</td>\n",
       "                        <td id=\"T_8efdce92_9adc_11e9_bbe1_2016b9880aa8row7_col2\" class=\"data row7 col2\" >$38.24</td>\n",
       "                        <td id=\"T_8efdce92_9adc_11e9_bbe1_2016b9880aa8row7_col3\" class=\"data row7 col3\" >$3.19</td>\n",
       "            </tr>\n",
       "    </tbody></table>"
      ],
      "text/plain": [
       "<pandas.io.formats.style.Styler at 0x1f0b5009278>"
      ]
     },
     "execution_count": 9,
     "metadata": {},
     "output_type": "execute_result"
    }
   ],
   "source": [
    "p_c_a = age_g[\"Purchase ID\"].count()\n",
    "\n",
    "a_p = age_g[\"Price\"].mean()\n",
    "\n",
    "t_p_v = age_g[\"Price\"].sum()\n",
    "\n",
    "a_p_p_a = t_p_v/total_c_a\n",
    "\n",
    "age_analysis = pd.DataFrame({\"Purchase Count\": p_c_a,\n",
    "\n",
    "                                 \"Average Purchase Price\": a_p,\n",
    "\n",
    "                                 \"Total Purchase Value\":t_p_v,\n",
    "\n",
    "                                 \"Average Purchase Total per Person\": a_p_p_a})\n",
    "\n",
    "age_analysis.index.name = None\n",
    "\n",
    "\n",
    "age_analysis.style.format({\"Average Purchase Price\":\"${:,.2f}\",\n",
    "\n",
    "                               \"Total Purchase Value\":\"${:,.2f}\",\n",
    "\n",
    "                               \"Average Purchase Total per Person\":\"${:,.2f}\"})"
   ]
  },
  {
   "cell_type": "markdown",
   "metadata": {},
   "source": [
    "## Top Spenders"
   ]
  },
  {
   "cell_type": "markdown",
   "metadata": {},
   "source": [
    "* Run basic calculations to obtain the results in the table below\n",
    "\n",
    "\n",
    "* Create a summary data frame to hold the results\n",
    "\n",
    "\n",
    "* Sort the total purchase value column in descending order\n",
    "\n",
    "\n",
    "* Optional: give the displayed data cleaner formatting\n",
    "\n",
    "\n",
    "* Display a preview of the summary data frame\n",
    "\n"
   ]
  },
  {
   "cell_type": "code",
   "execution_count": 10,
   "metadata": {},
   "outputs": [
    {
     "data": {
      "text/html": [
       "<style  type=\"text/css\" >\n",
       "</style><table id=\"T_8f00b60a_9adc_11e9_81d6_2016b9880aa8\" ><thead>    <tr>        <th class=\"blank level0\" ></th>        <th class=\"col_heading level0 col0\" >Purchase Count</th>        <th class=\"col_heading level0 col1\" >Average Purchase Price</th>        <th class=\"col_heading level0 col2\" >Total Purchase Value</th>    </tr>    <tr>        <th class=\"index_name level0\" >SN</th>        <th class=\"blank\" ></th>        <th class=\"blank\" ></th>        <th class=\"blank\" ></th>    </tr></thead><tbody>\n",
       "                <tr>\n",
       "                        <th id=\"T_8f00b60a_9adc_11e9_81d6_2016b9880aa8level0_row0\" class=\"row_heading level0 row0\" >Lisosia93</th>\n",
       "                        <td id=\"T_8f00b60a_9adc_11e9_81d6_2016b9880aa8row0_col0\" class=\"data row0 col0\" >5</td>\n",
       "                        <td id=\"T_8f00b60a_9adc_11e9_81d6_2016b9880aa8row0_col1\" class=\"data row0 col1\" >$3.79</td>\n",
       "                        <td id=\"T_8f00b60a_9adc_11e9_81d6_2016b9880aa8row0_col2\" class=\"data row0 col2\" >$18.96</td>\n",
       "            </tr>\n",
       "            <tr>\n",
       "                        <th id=\"T_8f00b60a_9adc_11e9_81d6_2016b9880aa8level0_row1\" class=\"row_heading level0 row1\" >Idastidru52</th>\n",
       "                        <td id=\"T_8f00b60a_9adc_11e9_81d6_2016b9880aa8row1_col0\" class=\"data row1 col0\" >4</td>\n",
       "                        <td id=\"T_8f00b60a_9adc_11e9_81d6_2016b9880aa8row1_col1\" class=\"data row1 col1\" >$3.86</td>\n",
       "                        <td id=\"T_8f00b60a_9adc_11e9_81d6_2016b9880aa8row1_col2\" class=\"data row1 col2\" >$15.45</td>\n",
       "            </tr>\n",
       "            <tr>\n",
       "                        <th id=\"T_8f00b60a_9adc_11e9_81d6_2016b9880aa8level0_row2\" class=\"row_heading level0 row2\" >Chamjask73</th>\n",
       "                        <td id=\"T_8f00b60a_9adc_11e9_81d6_2016b9880aa8row2_col0\" class=\"data row2 col0\" >3</td>\n",
       "                        <td id=\"T_8f00b60a_9adc_11e9_81d6_2016b9880aa8row2_col1\" class=\"data row2 col1\" >$4.61</td>\n",
       "                        <td id=\"T_8f00b60a_9adc_11e9_81d6_2016b9880aa8row2_col2\" class=\"data row2 col2\" >$13.83</td>\n",
       "            </tr>\n",
       "            <tr>\n",
       "                        <th id=\"T_8f00b60a_9adc_11e9_81d6_2016b9880aa8level0_row3\" class=\"row_heading level0 row3\" >Iral74</th>\n",
       "                        <td id=\"T_8f00b60a_9adc_11e9_81d6_2016b9880aa8row3_col0\" class=\"data row3 col0\" >4</td>\n",
       "                        <td id=\"T_8f00b60a_9adc_11e9_81d6_2016b9880aa8row3_col1\" class=\"data row3 col1\" >$3.40</td>\n",
       "                        <td id=\"T_8f00b60a_9adc_11e9_81d6_2016b9880aa8row3_col2\" class=\"data row3 col2\" >$13.62</td>\n",
       "            </tr>\n",
       "            <tr>\n",
       "                        <th id=\"T_8f00b60a_9adc_11e9_81d6_2016b9880aa8level0_row4\" class=\"row_heading level0 row4\" >Iskadarya95</th>\n",
       "                        <td id=\"T_8f00b60a_9adc_11e9_81d6_2016b9880aa8row4_col0\" class=\"data row4 col0\" >3</td>\n",
       "                        <td id=\"T_8f00b60a_9adc_11e9_81d6_2016b9880aa8row4_col1\" class=\"data row4 col1\" >$4.37</td>\n",
       "                        <td id=\"T_8f00b60a_9adc_11e9_81d6_2016b9880aa8row4_col2\" class=\"data row4 col2\" >$13.10</td>\n",
       "            </tr>\n",
       "    </tbody></table>"
      ],
      "text/plain": [
       "<pandas.io.formats.style.Styler at 0x1f0b5dcd278>"
      ]
     },
     "execution_count": 10,
     "metadata": {},
     "output_type": "execute_result"
    }
   ],
   "source": [
    "spenders_s = purchase_data.groupby(\"SN\")\n",
    "\n",
    "purchase_ct_s = spenders_s[\"Purchase ID\"].count()\n",
    "\n",
    "average_purchase_s = spenders_s[\"Price\"].mean()\n",
    "\n",
    "purchase_total_s= spenders_s[\"Price\"].sum()\n",
    "\n",
    "\n",
    "top_spender = pd.DataFrame({\"Purchase Count\": purchase_ct_s,\n",
    "\n",
    "                             \"Average Purchase Price\": average_purchase_s,\n",
    "\n",
    "                             \"Total Purchase Value\":purchase_total_s})\n",
    "\n",
    "\n",
    "spenders_format = top_spender.sort_values([\"Total Purchase Value\"], ascending=False).head()\n",
    "\n",
    "\n",
    "spenders_format.style.format({\"Average Purchase Total\":\"${:,.2f}\",\n",
    "\n",
    "                                 \"Average Purchase Price\":\"${:,.2f}\",\n",
    "\n",
    "                                 \"Total Purchase Value\":\"${:,.2f}\"})"
   ]
  },
  {
   "cell_type": "markdown",
   "metadata": {},
   "source": [
    "## Most Popular Items"
   ]
  },
  {
   "cell_type": "markdown",
   "metadata": {},
   "source": [
    "* Retrieve the Item ID, Item Name, and Item Price columns\n",
    "\n",
    "\n",
    "* Group by Item ID and Item Name. Perform calculations to obtain purchase count, item price, and total purchase value\n",
    "\n",
    "\n",
    "* Create a summary data frame to hold the results\n",
    "\n",
    "\n",
    "* Sort the purchase count column in descending order\n",
    "\n",
    "\n",
    "* Optional: give the displayed data cleaner formatting\n",
    "\n",
    "\n",
    "* Display a preview of the summary data frame\n",
    "\n"
   ]
  },
  {
   "cell_type": "code",
   "execution_count": 11,
   "metadata": {},
   "outputs": [
    {
     "data": {
      "text/html": [
       "<style  type=\"text/css\" >\n",
       "</style><table id=\"T_8f03c158_9adc_11e9_b9f5_2016b9880aa8\" ><thead>    <tr>        <th class=\"blank\" ></th>        <th class=\"blank level0\" ></th>        <th class=\"col_heading level0 col0\" >Purchase Count</th>        <th class=\"col_heading level0 col1\" >Item Price</th>        <th class=\"col_heading level0 col2\" >Total Purchase Value</th>    </tr>    <tr>        <th class=\"index_name level0\" >Item ID</th>        <th class=\"index_name level1\" >Item Name</th>        <th class=\"blank\" ></th>        <th class=\"blank\" ></th>        <th class=\"blank\" ></th>    </tr></thead><tbody>\n",
       "                <tr>\n",
       "                        <th id=\"T_8f03c158_9adc_11e9_b9f5_2016b9880aa8level0_row0\" class=\"row_heading level0 row0\" >178</th>\n",
       "                        <th id=\"T_8f03c158_9adc_11e9_b9f5_2016b9880aa8level1_row0\" class=\"row_heading level1 row0\" >Oathbreaker, Last Hope of the Breaking Storm</th>\n",
       "                        <td id=\"T_8f03c158_9adc_11e9_b9f5_2016b9880aa8row0_col0\" class=\"data row0 col0\" >12</td>\n",
       "                        <td id=\"T_8f03c158_9adc_11e9_b9f5_2016b9880aa8row0_col1\" class=\"data row0 col1\" >$4.23</td>\n",
       "                        <td id=\"T_8f03c158_9adc_11e9_b9f5_2016b9880aa8row0_col2\" class=\"data row0 col2\" >$50.76</td>\n",
       "            </tr>\n",
       "            <tr>\n",
       "                        <th id=\"T_8f03c158_9adc_11e9_b9f5_2016b9880aa8level0_row1\" class=\"row_heading level0 row1\" >145</th>\n",
       "                        <th id=\"T_8f03c158_9adc_11e9_b9f5_2016b9880aa8level1_row1\" class=\"row_heading level1 row1\" >Fiery Glass Crusader</th>\n",
       "                        <td id=\"T_8f03c158_9adc_11e9_b9f5_2016b9880aa8row1_col0\" class=\"data row1 col0\" >9</td>\n",
       "                        <td id=\"T_8f03c158_9adc_11e9_b9f5_2016b9880aa8row1_col1\" class=\"data row1 col1\" >$4.58</td>\n",
       "                        <td id=\"T_8f03c158_9adc_11e9_b9f5_2016b9880aa8row1_col2\" class=\"data row1 col2\" >$41.22</td>\n",
       "            </tr>\n",
       "            <tr>\n",
       "                        <th id=\"T_8f03c158_9adc_11e9_b9f5_2016b9880aa8level0_row2\" class=\"row_heading level0 row2\" >108</th>\n",
       "                        <th id=\"T_8f03c158_9adc_11e9_b9f5_2016b9880aa8level1_row2\" class=\"row_heading level1 row2\" >Extraction, Quickblade Of Trembling Hands</th>\n",
       "                        <td id=\"T_8f03c158_9adc_11e9_b9f5_2016b9880aa8row2_col0\" class=\"data row2 col0\" >9</td>\n",
       "                        <td id=\"T_8f03c158_9adc_11e9_b9f5_2016b9880aa8row2_col1\" class=\"data row2 col1\" >$3.53</td>\n",
       "                        <td id=\"T_8f03c158_9adc_11e9_b9f5_2016b9880aa8row2_col2\" class=\"data row2 col2\" >$31.77</td>\n",
       "            </tr>\n",
       "            <tr>\n",
       "                        <th id=\"T_8f03c158_9adc_11e9_b9f5_2016b9880aa8level0_row3\" class=\"row_heading level0 row3\" >82</th>\n",
       "                        <th id=\"T_8f03c158_9adc_11e9_b9f5_2016b9880aa8level1_row3\" class=\"row_heading level1 row3\" >Nirvana</th>\n",
       "                        <td id=\"T_8f03c158_9adc_11e9_b9f5_2016b9880aa8row3_col0\" class=\"data row3 col0\" >9</td>\n",
       "                        <td id=\"T_8f03c158_9adc_11e9_b9f5_2016b9880aa8row3_col1\" class=\"data row3 col1\" >$4.90</td>\n",
       "                        <td id=\"T_8f03c158_9adc_11e9_b9f5_2016b9880aa8row3_col2\" class=\"data row3 col2\" >$44.10</td>\n",
       "            </tr>\n",
       "            <tr>\n",
       "                        <th id=\"T_8f03c158_9adc_11e9_b9f5_2016b9880aa8level0_row4\" class=\"row_heading level0 row4\" >19</th>\n",
       "                        <th id=\"T_8f03c158_9adc_11e9_b9f5_2016b9880aa8level1_row4\" class=\"row_heading level1 row4\" >Pursuit, Cudgel of Necromancy</th>\n",
       "                        <td id=\"T_8f03c158_9adc_11e9_b9f5_2016b9880aa8row4_col0\" class=\"data row4 col0\" >8</td>\n",
       "                        <td id=\"T_8f03c158_9adc_11e9_b9f5_2016b9880aa8row4_col1\" class=\"data row4 col1\" >$1.02</td>\n",
       "                        <td id=\"T_8f03c158_9adc_11e9_b9f5_2016b9880aa8row4_col2\" class=\"data row4 col2\" >$8.16</td>\n",
       "            </tr>\n",
       "    </tbody></table>"
      ],
      "text/plain": [
       "<pandas.io.formats.style.Styler at 0x1f0b5dcdc18>"
      ]
     },
     "execution_count": 11,
     "metadata": {},
     "output_type": "execute_result"
    }
   ],
   "source": [
    "item = purchase_data[[\"Item ID\", \"Item Name\", \"Price\"]]\n",
    "\n",
    "item_stats = item.groupby([\"Item ID\", \"Item Name\"])\n",
    "\n",
    "purchase_value = item_stats[\"Price\"].sum()\n",
    "\n",
    "purchase_count = item_stats[\"Price\"].count()\n",
    "\n",
    "item_price = purchase_value/purchase_count\n",
    "\n",
    "\n",
    "purchase_df = pd.DataFrame({\"Purchase Count\" : purchase_count,\n",
    "\n",
    "                          \"Item Price\" : item_price,\n",
    "\n",
    "                          \"Total Purchase Value\" : purchase_value})\n",
    "\n",
    "\n",
    "purchase_f = purchase_df.sort_values([\"Purchase Count\"], ascending=False).head()\n",
    "\n",
    "\n",
    "purchase_f.style.format({\"Item Price\":\"${:,.2f}\",\n",
    "\n",
    "                                \"Total Purchase Value\":\"${:,.2f}\"})"
   ]
  },
  {
   "cell_type": "markdown",
   "metadata": {},
   "source": [
    "## Most Profitable Items"
   ]
  },
  {
   "cell_type": "markdown",
   "metadata": {},
   "source": [
    "* Sort the above table by total purchase value in descending order\n",
    "\n",
    "\n",
    "* Optional: give the displayed data cleaner formatting\n",
    "\n",
    "\n",
    "* Display a preview of the data frame\n",
    "\n"
   ]
  },
  {
   "cell_type": "code",
   "execution_count": 12,
   "metadata": {
    "scrolled": true
   },
   "outputs": [
    {
     "data": {
      "text/html": [
       "<style  type=\"text/css\" >\n",
       "</style><table id=\"T_8f05e2d0_9adc_11e9_96a5_2016b9880aa8\" ><thead>    <tr>        <th class=\"blank\" ></th>        <th class=\"blank level0\" ></th>        <th class=\"col_heading level0 col0\" >Purchase Count</th>        <th class=\"col_heading level0 col1\" >Item Price</th>        <th class=\"col_heading level0 col2\" >Total Purchase Value</th>    </tr>    <tr>        <th class=\"index_name level0\" >Item ID</th>        <th class=\"index_name level1\" >Item Name</th>        <th class=\"blank\" ></th>        <th class=\"blank\" ></th>        <th class=\"blank\" ></th>    </tr></thead><tbody>\n",
       "                <tr>\n",
       "                        <th id=\"T_8f05e2d0_9adc_11e9_96a5_2016b9880aa8level0_row0\" class=\"row_heading level0 row0\" >178</th>\n",
       "                        <th id=\"T_8f05e2d0_9adc_11e9_96a5_2016b9880aa8level1_row0\" class=\"row_heading level1 row0\" >Oathbreaker, Last Hope of the Breaking Storm</th>\n",
       "                        <td id=\"T_8f05e2d0_9adc_11e9_96a5_2016b9880aa8row0_col0\" class=\"data row0 col0\" >12</td>\n",
       "                        <td id=\"T_8f05e2d0_9adc_11e9_96a5_2016b9880aa8row0_col1\" class=\"data row0 col1\" >$4.23</td>\n",
       "                        <td id=\"T_8f05e2d0_9adc_11e9_96a5_2016b9880aa8row0_col2\" class=\"data row0 col2\" >$50.76</td>\n",
       "            </tr>\n",
       "            <tr>\n",
       "                        <th id=\"T_8f05e2d0_9adc_11e9_96a5_2016b9880aa8level0_row1\" class=\"row_heading level0 row1\" >82</th>\n",
       "                        <th id=\"T_8f05e2d0_9adc_11e9_96a5_2016b9880aa8level1_row1\" class=\"row_heading level1 row1\" >Nirvana</th>\n",
       "                        <td id=\"T_8f05e2d0_9adc_11e9_96a5_2016b9880aa8row1_col0\" class=\"data row1 col0\" >9</td>\n",
       "                        <td id=\"T_8f05e2d0_9adc_11e9_96a5_2016b9880aa8row1_col1\" class=\"data row1 col1\" >$4.90</td>\n",
       "                        <td id=\"T_8f05e2d0_9adc_11e9_96a5_2016b9880aa8row1_col2\" class=\"data row1 col2\" >$44.10</td>\n",
       "            </tr>\n",
       "            <tr>\n",
       "                        <th id=\"T_8f05e2d0_9adc_11e9_96a5_2016b9880aa8level0_row2\" class=\"row_heading level0 row2\" >145</th>\n",
       "                        <th id=\"T_8f05e2d0_9adc_11e9_96a5_2016b9880aa8level1_row2\" class=\"row_heading level1 row2\" >Fiery Glass Crusader</th>\n",
       "                        <td id=\"T_8f05e2d0_9adc_11e9_96a5_2016b9880aa8row2_col0\" class=\"data row2 col0\" >9</td>\n",
       "                        <td id=\"T_8f05e2d0_9adc_11e9_96a5_2016b9880aa8row2_col1\" class=\"data row2 col1\" >$4.58</td>\n",
       "                        <td id=\"T_8f05e2d0_9adc_11e9_96a5_2016b9880aa8row2_col2\" class=\"data row2 col2\" >$41.22</td>\n",
       "            </tr>\n",
       "            <tr>\n",
       "                        <th id=\"T_8f05e2d0_9adc_11e9_96a5_2016b9880aa8level0_row3\" class=\"row_heading level0 row3\" >92</th>\n",
       "                        <th id=\"T_8f05e2d0_9adc_11e9_96a5_2016b9880aa8level1_row3\" class=\"row_heading level1 row3\" >Final Critic</th>\n",
       "                        <td id=\"T_8f05e2d0_9adc_11e9_96a5_2016b9880aa8row3_col0\" class=\"data row3 col0\" >8</td>\n",
       "                        <td id=\"T_8f05e2d0_9adc_11e9_96a5_2016b9880aa8row3_col1\" class=\"data row3 col1\" >$4.88</td>\n",
       "                        <td id=\"T_8f05e2d0_9adc_11e9_96a5_2016b9880aa8row3_col2\" class=\"data row3 col2\" >$39.04</td>\n",
       "            </tr>\n",
       "            <tr>\n",
       "                        <th id=\"T_8f05e2d0_9adc_11e9_96a5_2016b9880aa8level0_row4\" class=\"row_heading level0 row4\" >103</th>\n",
       "                        <th id=\"T_8f05e2d0_9adc_11e9_96a5_2016b9880aa8level1_row4\" class=\"row_heading level1 row4\" >Singed Scalpel</th>\n",
       "                        <td id=\"T_8f05e2d0_9adc_11e9_96a5_2016b9880aa8row4_col0\" class=\"data row4 col0\" >8</td>\n",
       "                        <td id=\"T_8f05e2d0_9adc_11e9_96a5_2016b9880aa8row4_col1\" class=\"data row4 col1\" >$4.35</td>\n",
       "                        <td id=\"T_8f05e2d0_9adc_11e9_96a5_2016b9880aa8row4_col2\" class=\"data row4 col2\" >$34.80</td>\n",
       "            </tr>\n",
       "    </tbody></table>"
      ],
      "text/plain": [
       "<pandas.io.formats.style.Styler at 0x1f0b2cbca58>"
      ]
     },
     "execution_count": 12,
     "metadata": {},
     "output_type": "execute_result"
    }
   ],
   "source": [
    "purchase_f = purchase_df.sort_values([\"Total Purchase Value\"],\n",
    "\n",
    "                                                   ascending=False).head()\n",
    "\n",
    "purchase_f.style.format({\"Item Price\":\"${:,.2f}\",\n",
    "\n",
    "                                \"Total Purchase Value\":\"${:,.2f}\"})"
   ]
  },
  {
   "cell_type": "code",
   "execution_count": null,
   "metadata": {},
   "outputs": [],
   "source": [
    "#Trend 1- \"Oathbreaker, Last Hope of the Breaking Storm\", held the highest total puchase value of $50.76.\n",
    "#Trend 2- The age group of 40 and older had the lowest purchase value, $38.24; they also had the lowest total count of players.\n",
    "#Trend 3- Males are the gender with the highest percentage of players at 84.03%."
   ]
  }
 ],
 "metadata": {
  "anaconda-cloud": {},
  "kernel_info": {
   "name": "python3"
  },
  "kernelspec": {
   "display_name": "Python 3",
   "language": "python",
   "name": "python3"
  },
  "language_info": {
   "codemirror_mode": {
    "name": "ipython",
    "version": 3
   },
   "file_extension": ".py",
   "mimetype": "text/x-python",
   "name": "python",
   "nbconvert_exporter": "python",
   "pygments_lexer": "ipython3",
   "version": "3.7.3"
  },
  "nteract": {
   "version": "0.2.0"
  }
 },
 "nbformat": 4,
 "nbformat_minor": 2
}
